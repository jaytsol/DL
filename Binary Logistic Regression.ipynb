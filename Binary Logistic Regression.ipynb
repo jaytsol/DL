{
 "cells": [
  {
   "cell_type": "markdown",
   "id": "4dbadbc8-6c34-4b0a-a747-57d2632c4bbd",
   "metadata": {},
   "source": [
    "# Binary Logistic Regression<br>"
   ]
  },
  {
   "cell_type": "markdown",
   "id": "fb1804bb-e07a-4c4a-b397-91de3c8752ab",
   "metadata": {},
   "source": [
    "## 라이브러리"
   ]
  },
  {
   "cell_type": "code",
   "execution_count": 1,
   "id": "ec21c79c-a399-4e71-96fb-23dc0d8b1296",
   "metadata": {},
   "outputs": [],
   "source": [
    "import numpy as np\n",
    "import matplotlib.pyplot as plt\n",
    "from sklearn.model_selection import train_test_split\n",
    "from sklearn.linear_model import LogisticRegression"
   ]
  },
  {
   "cell_type": "markdown",
   "id": "fb285d5c-a232-4ded-b207-d96fbd284ff9",
   "metadata": {},
   "source": [
    "## <br>입력 데이터"
   ]
  },
  {
   "cell_type": "code",
   "execution_count": 2,
   "id": "c97980c9-90e5-4edf-9deb-3f985efadba9",
   "metadata": {
    "tags": []
   },
   "outputs": [],
   "source": [
    "X_train = np.array([0.5, 0.75, 1, 1.25, 1.5, 1.75, 2, 2.25, 2.5, 2.75, 3,\\\n",
    "                    3.25, 3.5, 3.75, 4, 4.25, 4.5, 5, 5, 5.5])\n",
    "y_train = np.array([0,0,0,0,0,0,1,0,1,0,1,0,1,0,1,1,1,1,1,1])\n",
    "X_train = X_train.reshape(-1,1)\n",
    "y_train = y_train.reshape(-1,1)"
   ]
  },
  {
   "cell_type": "markdown",
   "id": "f5affe6e-9686-47f9-b8f3-a7d1e3265fc2",
   "metadata": {},
   "source": [
    "## <br>학습 및 평가_1"
   ]
  },
  {
   "cell_type": "code",
   "execution_count": 3,
   "id": "eefdd7ea-5259-44d6-a6b4-52756f34d47e",
   "metadata": {},
   "outputs": [
    {
     "name": "stdout",
     "output_type": "stream",
     "text": [
      "weights =  [[1.14970043]]\n",
      "bias    =  [-3.31788221]\n",
      "Train set score: 80.0%\n",
      "\n"
     ]
    },
    {
     "name": "stderr",
     "output_type": "stream",
     "text": [
      "C:\\Users\\jayts\\miniconda3\\envs\\tf\\lib\\site-packages\\sklearn\\utils\\validation.py:63: DataConversionWarning: A column-vector y was passed when a 1d array was expected. Please change the shape of y to (n_samples, ), for example using ravel().\n",
      "  return f(*args, **kwargs)\n"
     ]
    }
   ],
   "source": [
    "logreg = LogisticRegression(solver='lbfgs').fit(X_train, y_train)\n",
    "print('weights = ', logreg.coef_)\n",
    "print('bias    = ', logreg.intercept_)\n",
    "print('Train set score: {0}%\\n'.format(logreg.score(X_train, y_train)*100))"
   ]
  },
  {
   "cell_type": "markdown",
   "id": "c001e1d6-3a92-4443-89c7-027b8e881efa",
   "metadata": {},
   "source": [
    "## <br>예측 및 비교"
   ]
  },
  {
   "cell_type": "code",
   "execution_count": 4,
   "id": "1b2ef919-6089-4e27-81d2-0a74f2f1f355",
   "metadata": {},
   "outputs": [
    {
     "name": "stdout",
     "output_type": "stream",
     "text": [
      "Hour P/F    통과확률 예측\n",
      "0.50    0    0.9395    0;\n",
      "0.75    0    0.9210    0;\n",
      "1.00    0    0.8974    0;\n",
      "1.25    0    0.8677    0;\n",
      "1.50    0    0.8311    0;\n",
      "1.75    0    0.7868    0;\n",
      "2.00    1    0.7347    0;\n",
      "2.25    0    0.6750    0;\n",
      "2.50    1    0.6091    0;\n",
      "2.75    0    0.5390    0;\n",
      "3.00    1    0.4672    1;\n",
      "3.25    0    0.3968    1;\n",
      "3.50    1    0.3305    1;\n",
      "3.75    0    0.2702    1;\n",
      "4.00    1    0.2174    1;\n",
      "4.25    1    0.1725    1;\n",
      "4.50    1    0.1352    1;\n",
      "5.00    1    0.0809    1;\n",
      "5.00    1    0.0809    1;\n",
      "5.50    1    0.0472    1;\n"
     ]
    }
   ],
   "source": [
    "prob = logreg.predict_proba(X_train)\n",
    "y_pred = logreg.predict(X_train)\n",
    "\n",
    "print('Hour P/F    통과확률 예측')\n",
    "for i in range(20):\n",
    "    print('%4.2f %4d    %6.4f %4d;'% (X_train[i,0],\\\n",
    "        y_train[i,0], prob[i,0], y_pred[i]))"
   ]
  },
  {
   "cell_type": "markdown",
   "id": "810795f9-e559-40d8-9ef8-d90e5bac7c7f",
   "metadata": {},
   "source": [
    "## <br>데이터 시각화"
   ]
  },
  {
   "cell_type": "code",
   "execution_count": 5,
   "id": "f3b2c2bf-ced9-453c-9d19-e081f355e0d9",
   "metadata": {},
   "outputs": [
    {
     "data": {
      "image/png": "[encoded data removed]",
      "text/plain": [
       "<Figure size 864x288 with 2 Axes>"
      ]
     },
     "metadata": {
      "needs_background": "light"
     },
     "output_type": "display_data"
    }
   ],
   "source": [
    "y_pred = logreg.predict(X_train)\n",
    "y_train2 = np.squeeze(y_train)\n",
    "corr_index = y_train2 == y_pred\n",
    "false_index = y_train2 != y_pred\n",
    "\n",
    "plt.figure(figsize=(12, 4))\n",
    "plt.subplot(1, 2, 1)\n",
    "\n",
    "plt.scatter(X_train[y_train2==1], y_train[y_train2==1], s=80, color='r', marker='o', label='Pass')\n",
    "plt.scatter(X_train[y_train2==0], y_train[y_train2==0], s=80, color='b', marker='o', label='Fail')\n",
    "plt.title('Pass/Fail w.r.t study time (Dataset)')\n",
    "plt.grid(), plt.legend(loc=7)\n",
    "             \n",
    "plt.subplot(1, 2, 2)\n",
    "plt.scatter(X_train[corr_index], y_train[corr_index], s=80, color='r', marker='o', label='Correct')\n",
    "plt.scatter(X_train[false_index], y_train[false_index], s=80, color='k', marker='x', label='False')\n",
    "\n",
    "plt.xlabel(\"study time\"); plt.ylabel('{pass:1, Fail:0}')\n",
    "plt.title('Pass/Fail w.r.t study time (Predicted)')\n",
    "plt.grid(), plt.legend(loc=7)\n",
    "\n",
    "plt.show()"
   ]
  },
  {
   "cell_type": "markdown",
   "id": "18716f61-3042-4402-a3d3-0c08ff3f448b",
   "metadata": {},
   "source": [
    "## <br>학습 및 평가_2"
   ]
  },
  {
   "cell_type": "code",
   "execution_count": 6,
   "id": "86cdbb0a-567f-4683-bcbb-2e67ed953ba7",
   "metadata": {},
   "outputs": [
    {
     "name": "stdout",
     "output_type": "stream",
     "text": [
      "weights =  [[1.14970043]]\n",
      "bias    =  [-3.31788221]\n",
      "Train set score: 80.0%\n",
      "\n"
     ]
    },
    {
     "name": "stderr",
     "output_type": "stream",
     "text": [
      "C:\\Users\\jayts\\miniconda3\\envs\\tf\\lib\\site-packages\\sklearn\\utils\\validation.py:63: DataConversionWarning: A column-vector y was passed when a 1d array was expected. Please change the shape of y to (n_samples, ), for example using ravel().\n",
      "  return f(*args, **kwargs)\n"
     ]
    }
   ],
   "source": [
    "logreg = LogisticRegression(solver='lbfgs').fit(X_train, y_train)\n",
    "print('weights = ', logreg.coef_)\n",
    "print('bias    = ', logreg.intercept_)\n",
    "print('Train set score: {0}%\\n'.format(logreg.score(X_train, y_train)*100))"
   ]
  },
  {
   "cell_type": "code",
   "execution_count": null,
   "id": "3b73f2f5-aa61-4963-82df-a41f41845c98",
   "metadata": {},
   "outputs": [],
   "source": []
  }
 ],
 "metadata": {
  "kernelspec": {
   "display_name": "Python 3",
   "language": "python",
   "name": "python3"
  },
  "language_info": {
   "codemirror_mode": {
    "name": "ipython",
    "version": 3
   },
   "file_extension": ".py",
   "mimetype": "text/x-python",
   "name": "python",
   "nbconvert_exporter": "python",
   "pygments_lexer": "ipython3",
   "version": "3.8.8"
  }
 },
 "nbformat": 4,
 "nbformat_minor": 5
}
