{
 "cells": [
  {
   "cell_type": "markdown",
   "id": "7fbc0447-c83c-4413-817d-80b4cf1ebe49",
   "metadata": {},
   "source": [
    "# 다중 선형 회귀"
   ]
  },
  {
   "cell_type": "markdown",
   "id": "ce93b448-0b2f-4513-83f6-d6cab113f23e",
   "metadata": {},
   "source": [
    "<br>중간고사, 기말고사, 추가 점수를 어떤 공식을 통해 최종 점수를 계산한 데이터가 있다."
   ]
  },
  {
   "cell_type": "code",
   "execution_count": 1,
   "id": "0c74de00-cb08-4e1e-a24e-be6fcf2b81b3",
   "metadata": {},
   "outputs": [
    {
     "data": {
      "text/html": [
       "<div>\n",
       "<style scoped>\n",
       "    .dataframe tbody tr th:only-of-type {\n",
       "        vertical-align: middle;\n",
       "    }\n",
       "\n",
       "    .dataframe tbody tr th {\n",
       "        vertical-align: top;\n",
       "    }\n",
       "\n",
       "    .dataframe thead th {\n",
       "        text-align: right;\n",
       "    }\n",
       "</style>\n",
       "<table border=\"1\" class=\"dataframe\">\n",
       "  <thead>\n",
       "    <tr style=\"text-align: right;\">\n",
       "      <th></th>\n",
       "      <th>Midterm(x_1)</th>\n",
       "      <th>Final(x_2)</th>\n",
       "      <th>Added point(x_3)</th>\n",
       "      <th>Score($1000)(y)</th>\n",
       "    </tr>\n",
       "  </thead>\n",
       "  <tbody>\n",
       "    <tr>\n",
       "      <th>0</th>\n",
       "      <td>70</td>\n",
       "      <td>85</td>\n",
       "      <td>11</td>\n",
       "      <td>73</td>\n",
       "    </tr>\n",
       "    <tr>\n",
       "      <th>1</th>\n",
       "      <td>71</td>\n",
       "      <td>89</td>\n",
       "      <td>18</td>\n",
       "      <td>82</td>\n",
       "    </tr>\n",
       "    <tr>\n",
       "      <th>2</th>\n",
       "      <td>50</td>\n",
       "      <td>80</td>\n",
       "      <td>20</td>\n",
       "      <td>72</td>\n",
       "    </tr>\n",
       "    <tr>\n",
       "      <th>3</th>\n",
       "      <td>99</td>\n",
       "      <td>20</td>\n",
       "      <td>10</td>\n",
       "      <td>57</td>\n",
       "    </tr>\n",
       "    <tr>\n",
       "      <th>4</th>\n",
       "      <td>50</td>\n",
       "      <td>10</td>\n",
       "      <td>10</td>\n",
       "      <td>34</td>\n",
       "    </tr>\n",
       "    <tr>\n",
       "      <th>5</th>\n",
       "      <td>20</td>\n",
       "      <td>99</td>\n",
       "      <td>10</td>\n",
       "      <td>58</td>\n",
       "    </tr>\n",
       "    <tr>\n",
       "      <th>6</th>\n",
       "      <td>40</td>\n",
       "      <td>50</td>\n",
       "      <td>20</td>\n",
       "      <td>56</td>\n",
       "    </tr>\n",
       "  </tbody>\n",
       "</table>\n",
       "</div>"
      ],
      "text/plain": [
       "   Midterm(x_1)  Final(x_2)  Added point(x_3)  Score($1000)(y)\n",
       "0            70          85                11               73\n",
       "1            71          89                18               82\n",
       "2            50          80                20               72\n",
       "3            99          20                10               57\n",
       "4            50          10                10               34\n",
       "5            20          99                10               58\n",
       "6            40          50                20               56"
      ]
     },
     "execution_count": 1,
     "metadata": {},
     "output_type": "execute_result"
    }
   ],
   "source": [
    "import numpy as np\n",
    "import pandas as pd\n",
    "from tensorflow.keras.models import Sequential\n",
    "from tensorflow.keras.layers import Dense\n",
    "from tensorflow.keras import optimizers\n",
    "\n",
    "data = pd.DataFrame(\n",
    "    {\n",
    "        \"Midterm(x_1)\": [70, 71, 50, 99, 50, 20, 40],\n",
    "        \"Final(x_2)\": [85, 89, 80, 20, 10, 99, 50],\n",
    "        \"Added point(x_3)\": [11, 18, 20, 10, 10, 10, 20],\n",
    "        \"Score($1000)(y)\": [73, 82, 72, 57, 34, 58, 56],\n",
    "    }\n",
    ")\n",
    "data"
   ]
  },
  {
   "cell_type": "markdown",
   "id": "fcc11b27-f007-466d-ac8a-a7e248b1718f",
   "metadata": {},
   "source": [
    "<br>가설은 다음과 같다.<br><br>\n",
    "$H(X) = W_1x_1 + W_2x_2 + W_3x_3 + b$"
   ]
  },
  {
   "cell_type": "code",
   "execution_count": 2,
   "id": "23c9fb27-9944-4293-b693-90d4cc35191a",
   "metadata": {},
   "outputs": [
    {
     "data": {
      "text/plain": [
       "<tensorflow.python.keras.callbacks.History at 0x1a19eb56be0>"
      ]
     },
     "execution_count": 2,
     "metadata": {},
     "output_type": "execute_result"
    }
   ],
   "source": [
    "X = np.array([[70,85,11],[71,89,18],[50,80,20],[99,20,10],[50,10,10]])\n",
    "y = np.array([73,82,72,57,34])\n",
    "\n",
    "model=Sequential()\n",
    "model.add(Dense(1, input_dim=3, activation='linear'))\n",
    "\n",
    "sgd=optimizers.SGD(lr=0.00001)\n",
    "\n",
    "model.compile(optimizer=sgd, loss='mse', metrics=['mse'])\n",
    "\n",
    "model.fit(X, y, batch_size=1, epochs=2000, shuffle=False, verbose=0)"
   ]
  },
  {
   "cell_type": "code",
   "execution_count": 3,
   "id": "ce9b218d-79ae-4ea8-8c67-37de1a109d50",
   "metadata": {},
   "outputs": [
    {
     "name": "stdout",
     "output_type": "stream",
     "text": [
      "[[72.98664 ]\n",
      " [81.96943 ]\n",
      " [72.035034]\n",
      " [57.135223]\n",
      " [33.75846 ]]\n"
     ]
    }
   ],
   "source": [
    "print(model.predict(X))"
   ]
  },
  {
   "cell_type": "code",
   "execution_count": 4,
   "id": "f02ed47d-9cf9-4598-a2cc-f199e8a4284e",
   "metadata": {},
   "outputs": [
    {
     "name": "stdout",
     "output_type": "stream",
     "text": [
      "[[57.929146]\n",
      " [55.953022]]\n"
     ]
    }
   ],
   "source": [
    "X_test = np.array([[20,99,10],[40,50,20]])     # 예측값은 58, 56이 나와야함\n",
    "print(model.predict(X_test))"
   ]
  },
  {
   "cell_type": "code",
   "execution_count": null,
   "id": "7335ae38-01cf-42ae-bf1a-6084ee30cd6c",
   "metadata": {},
   "outputs": [],
   "source": []
  }
 ],
 "metadata": {
  "kernelspec": {
   "display_name": "Python 3",
   "language": "python",
   "name": "python3"
  },
  "language_info": {
   "codemirror_mode": {
    "name": "ipython",
    "version": 3
   },
   "file_extension": ".py",
   "mimetype": "text/x-python",
   "name": "python",
   "nbconvert_exporter": "python",
   "pygments_lexer": "ipython3",
   "version": "3.8.8"
  }
 },
 "nbformat": 4,
 "nbformat_minor": 5
}
