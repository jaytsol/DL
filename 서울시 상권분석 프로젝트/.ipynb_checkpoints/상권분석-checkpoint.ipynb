{
 "cells": [
  {
   "cell_type": "markdown",
   "id": "1df11264-1b7a-4034-91f4-983579692c6d",
   "metadata": {},
   "source": [
    "# 서울시 상권분석 시스템<br>"
   ]
  },
  {
   "cell_type": "markdown",
   "id": "e93cb3fb-e1a2-4dc0-950e-34b48cb0b1a8",
   "metadata": {},
   "source": [
    "## 변수 리스트"
   ]
  },
  {
   "cell_type": "markdown",
   "id": "c177d2c3-35d9-4f3e-a972-d183a22e328d",
   "metadata": {},
   "source": [
    "Estimated_Revenue : 상권_추정매출_피벗테이블.csv<br>\n",
    "Estimated_Population : 상권_추정유동인구.csv<br>\n",
    "User_Input : 사용자로부터 입력받은 서비스업종<br>"
   ]
  },
  {
   "cell_type": "markdown",
   "id": "ba2074b4-06ac-4fa2-9ead-bfb2854c4b50",
   "metadata": {},
   "source": [
    "## <br>라이브러리"
   ]
  },
  {
   "cell_type": "code",
   "execution_count": 9,
   "id": "d93a7483-ac28-4abe-b4e9-1ed1afe1a2fe",
   "metadata": {},
   "outputs": [],
   "source": [
    "import numpy as np\n",
    "import pandas as pd\n",
    "import matplotlib as plt"
   ]
  },
  {
   "cell_type": "markdown",
   "id": "d5728dda-a51d-4967-ad4e-e4c7bcd8bd92",
   "metadata": {},
   "source": [
    "## <br>입력 데이터"
   ]
  },
  {
   "cell_type": "code",
   "execution_count": 2,
   "id": "f73f2298-0fc4-417c-9238-8178b6246912",
   "metadata": {},
   "outputs": [],
   "source": [
    "sales = pd.read_csv(r'C:\\Users\\jayts\\OneDrive\\바탕 화면\\hustar\\프로젝트\\작업 엑셀_최종\\필요한 데이터만\\상권_추정매출_피벗테이블.csv')\n",
    "population = pd.read_csv(r'C:\\Users\\jayts\\OneDrive\\바탕 화면\\hustar\\프로젝트\\작업 엑셀_최종\\필요한 데이터만\\상권_추정유동인구.csv')\n",
    "week = pd.read_csv(r'C:\\Users\\jayts\\OneDrive\\바탕 화면\\hustar\\프로젝트\\작업 엑셀_최종\\필요한 데이터만\\상권_추정매출_시간요일.csv')"
   ]
  },
  {
   "cell_type": "code",
   "execution_count": 3,
   "id": "7a81faa5-cde4-4e9c-ac1c-d724800a77e6",
   "metadata": {},
   "outputs": [
    {
     "data": {
      "text/html": [
       "<div>\n",
       "<style scoped>\n",
       "    .dataframe tbody tr th:only-of-type {\n",
       "        vertical-align: middle;\n",
       "    }\n",
       "\n",
       "    .dataframe tbody tr th {\n",
       "        vertical-align: top;\n",
       "    }\n",
       "\n",
       "    .dataframe thead th {\n",
       "        text-align: right;\n",
       "    }\n",
       "</style>\n",
       "<table border=\"1\" class=\"dataframe\">\n",
       "  <thead>\n",
       "    <tr style=\"text-align: right;\">\n",
       "      <th></th>\n",
       "      <th>행 레이블</th>\n",
       "      <th>평균 : 당월_매출_금액</th>\n",
       "      <th>평균 : 당월_매출_건수</th>\n",
       "      <th>평균 : 남성_매출_비율</th>\n",
       "      <th>평균 : 여성_매출_비율</th>\n",
       "      <th>평균 : 연령대_10_매출_비율</th>\n",
       "      <th>평균 : 연령대_20_매출_비율</th>\n",
       "      <th>평균 : 연령대_30_매출_비율</th>\n",
       "      <th>평균 : 연령대_40_매출_비율</th>\n",
       "      <th>평균 : 연령대_50_매출_비율</th>\n",
       "      <th>평균 : 연령대_60_이상_매출_비율</th>\n",
       "    </tr>\n",
       "  </thead>\n",
       "  <tbody>\n",
       "    <tr>\n",
       "      <th>0</th>\n",
       "      <td>1000001</td>\n",
       "      <td>₩219,974,888</td>\n",
       "      <td>12945.2</td>\n",
       "      <td>42.8</td>\n",
       "      <td>57.2</td>\n",
       "      <td>3.8</td>\n",
       "      <td>27.4</td>\n",
       "      <td>27.8</td>\n",
       "      <td>18.6</td>\n",
       "      <td>15.0</td>\n",
       "      <td>7.7</td>\n",
       "    </tr>\n",
       "    <tr>\n",
       "      <th>1</th>\n",
       "      <td>CS100001</td>\n",
       "      <td>₩400,141,122</td>\n",
       "      <td>17647.3</td>\n",
       "      <td>51.3</td>\n",
       "      <td>49.0</td>\n",
       "      <td>2.3</td>\n",
       "      <td>32.3</td>\n",
       "      <td>30.8</td>\n",
       "      <td>16.0</td>\n",
       "      <td>12.8</td>\n",
       "      <td>6.3</td>\n",
       "    </tr>\n",
       "    <tr>\n",
       "      <th>2</th>\n",
       "      <td>CS100002</td>\n",
       "      <td>₩34,508,687</td>\n",
       "      <td>1927.5</td>\n",
       "      <td>44.3</td>\n",
       "      <td>55.8</td>\n",
       "      <td>15.0</td>\n",
       "      <td>26.8</td>\n",
       "      <td>18.3</td>\n",
       "      <td>24.0</td>\n",
       "      <td>11.5</td>\n",
       "      <td>4.5</td>\n",
       "    </tr>\n",
       "    <tr>\n",
       "      <th>3</th>\n",
       "      <td>CS100003</td>\n",
       "      <td>₩53,880,333</td>\n",
       "      <td>1356.8</td>\n",
       "      <td>47.3</td>\n",
       "      <td>52.8</td>\n",
       "      <td>0.0</td>\n",
       "      <td>12.8</td>\n",
       "      <td>30.0</td>\n",
       "      <td>21.0</td>\n",
       "      <td>26.3</td>\n",
       "      <td>10.0</td>\n",
       "    </tr>\n",
       "    <tr>\n",
       "      <th>4</th>\n",
       "      <td>CS100004</td>\n",
       "      <td>₩187,411,595</td>\n",
       "      <td>4246.0</td>\n",
       "      <td>34.5</td>\n",
       "      <td>65.5</td>\n",
       "      <td>0.8</td>\n",
       "      <td>32.8</td>\n",
       "      <td>35.5</td>\n",
       "      <td>13.8</td>\n",
       "      <td>12.0</td>\n",
       "      <td>5.8</td>\n",
       "    </tr>\n",
       "  </tbody>\n",
       "</table>\n",
       "</div>"
      ],
      "text/plain": [
       "      행 레이블   평균 : 당월_매출_금액  평균 : 당월_매출_건수  평균 : 남성_매출_비율  평균 : 여성_매출_비율  \\\n",
       "0   1000001   ₩219,974,888         12945.2           42.8           57.2   \n",
       "1  CS100001   ₩400,141,122         17647.3           51.3           49.0   \n",
       "2  CS100002    ₩34,508,687          1927.5           44.3           55.8   \n",
       "3  CS100003    ₩53,880,333          1356.8           47.3           52.8   \n",
       "4  CS100004   ₩187,411,595          4246.0           34.5           65.5   \n",
       "\n",
       "   평균 : 연령대_10_매출_비율  평균 : 연령대_20_매출_비율  평균 : 연령대_30_매출_비율  평균 : 연령대_40_매출_비율  \\\n",
       "0                3.8               27.4               27.8               18.6   \n",
       "1                2.3               32.3               30.8               16.0   \n",
       "2               15.0               26.8               18.3               24.0   \n",
       "3                0.0               12.8               30.0               21.0   \n",
       "4                0.8               32.8               35.5               13.8   \n",
       "\n",
       "   평균 : 연령대_50_매출_비율  평균 : 연령대_60_이상_매출_비율  \n",
       "0               15.0                   7.7  \n",
       "1               12.8                   6.3  \n",
       "2               11.5                   4.5  \n",
       "3               26.3                  10.0  \n",
       "4               12.0                   5.8  "
      ]
     },
     "execution_count": 3,
     "metadata": {},
     "output_type": "execute_result"
    }
   ],
   "source": [
    "sales.head()"
   ]
  },
  {
   "cell_type": "code",
   "execution_count": 4,
   "id": "e95c1cb1-3355-4f90-a745-86ff0933cc5e",
   "metadata": {},
   "outputs": [
    {
     "data": {
      "text/html": [
       "<div>\n",
       "<style scoped>\n",
       "    .dataframe tbody tr th:only-of-type {\n",
       "        vertical-align: middle;\n",
       "    }\n",
       "\n",
       "    .dataframe tbody tr th {\n",
       "        vertical-align: top;\n",
       "    }\n",
       "\n",
       "    .dataframe thead th {\n",
       "        text-align: right;\n",
       "    }\n",
       "</style>\n",
       "<table border=\"1\" class=\"dataframe\">\n",
       "  <thead>\n",
       "    <tr style=\"text-align: right;\">\n",
       "      <th></th>\n",
       "      <th>행 레이블</th>\n",
       "      <th>평균 : 총_유동인구_수</th>\n",
       "      <th>평균 : 남성_유동인구_수</th>\n",
       "      <th>평균 : 여성_유동인구_수</th>\n",
       "      <th>평균 : 연령대_10_유동인구_수</th>\n",
       "      <th>평균 : 연령대_20_유동인구_수</th>\n",
       "      <th>평균 : 연령대_30_유동인구_수</th>\n",
       "      <th>평균 : 연령대_40_유동인구_수</th>\n",
       "      <th>평균 : 연령대_50_유동인구_수</th>\n",
       "      <th>평균 : 연령대_60_이상_유동인구_수</th>\n",
       "      <th>상권_변화_지표</th>\n",
       "    </tr>\n",
       "  </thead>\n",
       "  <tbody>\n",
       "    <tr>\n",
       "      <th>0</th>\n",
       "      <td>1000001</td>\n",
       "      <td>311,921</td>\n",
       "      <td>158,176</td>\n",
       "      <td>153,746</td>\n",
       "      <td>35,122</td>\n",
       "      <td>44,346</td>\n",
       "      <td>60,963</td>\n",
       "      <td>64,042</td>\n",
       "      <td>47,095</td>\n",
       "      <td>60,355</td>\n",
       "      <td>LH</td>\n",
       "    </tr>\n",
       "    <tr>\n",
       "      <th>1</th>\n",
       "      <td>1000002</td>\n",
       "      <td>359,732</td>\n",
       "      <td>183,454</td>\n",
       "      <td>176,279</td>\n",
       "      <td>18,541</td>\n",
       "      <td>65,579</td>\n",
       "      <td>66,677</td>\n",
       "      <td>60,140</td>\n",
       "      <td>60,814</td>\n",
       "      <td>87,982</td>\n",
       "      <td>HL</td>\n",
       "    </tr>\n",
       "    <tr>\n",
       "      <th>2</th>\n",
       "      <td>1000003</td>\n",
       "      <td>173,017</td>\n",
       "      <td>96,346</td>\n",
       "      <td>76,671</td>\n",
       "      <td>9,846</td>\n",
       "      <td>33,191</td>\n",
       "      <td>35,240</td>\n",
       "      <td>32,263</td>\n",
       "      <td>27,170</td>\n",
       "      <td>35,307</td>\n",
       "      <td>HH</td>\n",
       "    </tr>\n",
       "    <tr>\n",
       "      <th>3</th>\n",
       "      <td>1000004</td>\n",
       "      <td>649,072</td>\n",
       "      <td>316,093</td>\n",
       "      <td>332,981</td>\n",
       "      <td>80,968</td>\n",
       "      <td>249,246</td>\n",
       "      <td>65,338</td>\n",
       "      <td>70,927</td>\n",
       "      <td>60,230</td>\n",
       "      <td>122,364</td>\n",
       "      <td>LH</td>\n",
       "    </tr>\n",
       "    <tr>\n",
       "      <th>4</th>\n",
       "      <td>1000005</td>\n",
       "      <td>174,041</td>\n",
       "      <td>81,611</td>\n",
       "      <td>92,430</td>\n",
       "      <td>23,306</td>\n",
       "      <td>22,726</td>\n",
       "      <td>20,816</td>\n",
       "      <td>30,906</td>\n",
       "      <td>28,126</td>\n",
       "      <td>48,161</td>\n",
       "      <td>LL</td>\n",
       "    </tr>\n",
       "  </tbody>\n",
       "</table>\n",
       "</div>"
      ],
      "text/plain": [
       "     행 레이블 평균 : 총_유동인구_수 평균 : 남성_유동인구_수 평균 : 여성_유동인구_수 평균 : 연령대_10_유동인구_수  \\\n",
       "0  1000001       311,921        158,176        153,746             35,122   \n",
       "1  1000002       359,732        183,454        176,279             18,541   \n",
       "2  1000003       173,017         96,346         76,671              9,846   \n",
       "3  1000004       649,072        316,093        332,981             80,968   \n",
       "4  1000005       174,041         81,611         92,430             23,306   \n",
       "\n",
       "  평균 : 연령대_20_유동인구_수 평균 : 연령대_30_유동인구_수 평균 : 연령대_40_유동인구_수 평균 : 연령대_50_유동인구_수  \\\n",
       "0             44,346             60,963             64,042             47,095   \n",
       "1             65,579             66,677             60,140             60,814   \n",
       "2             33,191             35,240             32,263             27,170   \n",
       "3            249,246             65,338             70,927             60,230   \n",
       "4             22,726             20,816             30,906             28,126   \n",
       "\n",
       "  평균 : 연령대_60_이상_유동인구_수 상권_변화_지표  \n",
       "0                60,355       LH  \n",
       "1                87,982       HL  \n",
       "2                35,307       HH  \n",
       "3               122,364       LH  \n",
       "4                48,161       LL  "
      ]
     },
     "execution_count": 4,
     "metadata": {},
     "output_type": "execute_result"
    }
   ],
   "source": [
    "population.head()"
   ]
  },
  {
   "cell_type": "code",
   "execution_count": 6,
   "id": "621e9d77-bdd9-4be3-8286-545c0ff44282",
   "metadata": {},
   "outputs": [
    {
     "data": {
      "text/html": [
       "<div>\n",
       "<style scoped>\n",
       "    .dataframe tbody tr th:only-of-type {\n",
       "        vertical-align: middle;\n",
       "    }\n",
       "\n",
       "    .dataframe tbody tr th {\n",
       "        vertical-align: top;\n",
       "    }\n",
       "\n",
       "    .dataframe thead th {\n",
       "        text-align: right;\n",
       "    }\n",
       "</style>\n",
       "<table border=\"1\" class=\"dataframe\">\n",
       "  <thead>\n",
       "    <tr style=\"text-align: right;\">\n",
       "      <th></th>\n",
       "      <th>상권_코드</th>\n",
       "      <th>서비스_업종_코드</th>\n",
       "      <th>당월_매출_금액</th>\n",
       "      <th>월요일_매출_비율</th>\n",
       "      <th>화요일_매출_비율</th>\n",
       "      <th>수요일_매출_비율</th>\n",
       "      <th>목요일_매출_비율</th>\n",
       "      <th>금요일_매출_비율</th>\n",
       "      <th>토요일_매출_비율</th>\n",
       "      <th>일요일_매출_비율</th>\n",
       "      <th>...</th>\n",
       "      <th>시간대_17~21_매출_비율</th>\n",
       "      <th>시간대_21~24_매출_비율</th>\n",
       "      <th>남성_매출_비율</th>\n",
       "      <th>여성_매출_비율</th>\n",
       "      <th>연령대_10_매출_비율</th>\n",
       "      <th>연령대_20_매출_비율</th>\n",
       "      <th>연령대_30_매출_비율</th>\n",
       "      <th>연령대_40_매출_비율</th>\n",
       "      <th>연령대_50_매출_비율</th>\n",
       "      <th>연령대_60_이상_매출_비율</th>\n",
       "    </tr>\n",
       "  </thead>\n",
       "  <tbody>\n",
       "    <tr>\n",
       "      <th>0</th>\n",
       "      <td>1000001</td>\n",
       "      <td>CS100001</td>\n",
       "      <td>338244981</td>\n",
       "      <td>13</td>\n",
       "      <td>11</td>\n",
       "      <td>13</td>\n",
       "      <td>16</td>\n",
       "      <td>16</td>\n",
       "      <td>20</td>\n",
       "      <td>11</td>\n",
       "      <td>...</td>\n",
       "      <td>31</td>\n",
       "      <td>3</td>\n",
       "      <td>54</td>\n",
       "      <td>46</td>\n",
       "      <td>3</td>\n",
       "      <td>36</td>\n",
       "      <td>29</td>\n",
       "      <td>13</td>\n",
       "      <td>11</td>\n",
       "      <td>8</td>\n",
       "    </tr>\n",
       "    <tr>\n",
       "      <th>1</th>\n",
       "      <td>1000001</td>\n",
       "      <td>CS100001</td>\n",
       "      <td>391007320</td>\n",
       "      <td>13</td>\n",
       "      <td>16</td>\n",
       "      <td>15</td>\n",
       "      <td>16</td>\n",
       "      <td>20</td>\n",
       "      <td>12</td>\n",
       "      <td>9</td>\n",
       "      <td>...</td>\n",
       "      <td>38</td>\n",
       "      <td>2</td>\n",
       "      <td>51</td>\n",
       "      <td>49</td>\n",
       "      <td>2</td>\n",
       "      <td>30</td>\n",
       "      <td>35</td>\n",
       "      <td>19</td>\n",
       "      <td>11</td>\n",
       "      <td>4</td>\n",
       "    </tr>\n",
       "    <tr>\n",
       "      <th>2</th>\n",
       "      <td>1000001</td>\n",
       "      <td>CS100001</td>\n",
       "      <td>439869732</td>\n",
       "      <td>13</td>\n",
       "      <td>15</td>\n",
       "      <td>16</td>\n",
       "      <td>18</td>\n",
       "      <td>15</td>\n",
       "      <td>13</td>\n",
       "      <td>11</td>\n",
       "      <td>...</td>\n",
       "      <td>35</td>\n",
       "      <td>2</td>\n",
       "      <td>51</td>\n",
       "      <td>50</td>\n",
       "      <td>2</td>\n",
       "      <td>32</td>\n",
       "      <td>28</td>\n",
       "      <td>16</td>\n",
       "      <td>16</td>\n",
       "      <td>6</td>\n",
       "    </tr>\n",
       "    <tr>\n",
       "      <th>3</th>\n",
       "      <td>1000001</td>\n",
       "      <td>CS100001</td>\n",
       "      <td>431442455</td>\n",
       "      <td>13</td>\n",
       "      <td>15</td>\n",
       "      <td>16</td>\n",
       "      <td>17</td>\n",
       "      <td>18</td>\n",
       "      <td>11</td>\n",
       "      <td>10</td>\n",
       "      <td>...</td>\n",
       "      <td>36</td>\n",
       "      <td>2</td>\n",
       "      <td>49</td>\n",
       "      <td>51</td>\n",
       "      <td>2</td>\n",
       "      <td>31</td>\n",
       "      <td>31</td>\n",
       "      <td>16</td>\n",
       "      <td>13</td>\n",
       "      <td>7</td>\n",
       "    </tr>\n",
       "    <tr>\n",
       "      <th>4</th>\n",
       "      <td>1000001</td>\n",
       "      <td>CS100002</td>\n",
       "      <td>38378106</td>\n",
       "      <td>17</td>\n",
       "      <td>12</td>\n",
       "      <td>19</td>\n",
       "      <td>14</td>\n",
       "      <td>15</td>\n",
       "      <td>10</td>\n",
       "      <td>13</td>\n",
       "      <td>...</td>\n",
       "      <td>26</td>\n",
       "      <td>0</td>\n",
       "      <td>44</td>\n",
       "      <td>56</td>\n",
       "      <td>18</td>\n",
       "      <td>25</td>\n",
       "      <td>18</td>\n",
       "      <td>23</td>\n",
       "      <td>12</td>\n",
       "      <td>3</td>\n",
       "    </tr>\n",
       "  </tbody>\n",
       "</table>\n",
       "<p>5 rows × 24 columns</p>\n",
       "</div>"
      ],
      "text/plain": [
       "     상권_코드 서비스_업종_코드   당월_매출_금액  월요일_매출_비율  화요일_매출_비율  수요일_매출_비율  목요일_매출_비율  \\\n",
       "0  1000001  CS100001  338244981         13         11         13         16   \n",
       "1  1000001  CS100001  391007320         13         16         15         16   \n",
       "2  1000001  CS100001  439869732         13         15         16         18   \n",
       "3  1000001  CS100001  431442455         13         15         16         17   \n",
       "4  1000001  CS100002   38378106         17         12         19         14   \n",
       "\n",
       "   금요일_매출_비율  토요일_매출_비율  일요일_매출_비율  ...  시간대_17~21_매출_비율  시간대_21~24_매출_비율  \\\n",
       "0         16         20         11  ...               31                3   \n",
       "1         20         12          9  ...               38                2   \n",
       "2         15         13         11  ...               35                2   \n",
       "3         18         11         10  ...               36                2   \n",
       "4         15         10         13  ...               26                0   \n",
       "\n",
       "   남성_매출_비율  여성_매출_비율  연령대_10_매출_비율  연령대_20_매출_비율  연령대_30_매출_비율  연령대_40_매출_비율  \\\n",
       "0        54        46             3            36            29            13   \n",
       "1        51        49             2            30            35            19   \n",
       "2        51        50             2            32            28            16   \n",
       "3        49        51             2            31            31            16   \n",
       "4        44        56            18            25            18            23   \n",
       "\n",
       "   연령대_50_매출_비율  연령대_60_이상_매출_비율  \n",
       "0            11                8  \n",
       "1            11                4  \n",
       "2            16                6  \n",
       "3            13                7  \n",
       "4            12                3  \n",
       "\n",
       "[5 rows x 24 columns]"
      ]
     },
     "execution_count": 6,
     "metadata": {},
     "output_type": "execute_result"
    }
   ],
   "source": [
    "week.head()"
   ]
  },
  {
   "cell_type": "markdown",
   "id": "ee906922-f0d5-4fb5-9923-ea40c75d6390",
   "metadata": {},
   "source": [
    "## <br>서비스업종 입력"
   ]
  },
  {
   "cell_type": "code",
   "execution_count": 7,
   "id": "3a626714-ba38-4074-9a0e-7d19a9b02cce",
   "metadata": {},
   "outputs": [
    {
     "data": {
      "text/plain": [
       "['한식음식점',\n",
       " '중식음식점',\n",
       " '일식음식점',\n",
       " '양식음식점',\n",
       " '제과점',\n",
       " '패스트푸드점',\n",
       " '치킨전문점',\n",
       " '분식전문점',\n",
       " '호프-간이주점',\n",
       " '커피-음료']"
      ]
     },
     "execution_count": 7,
     "metadata": {},
     "output_type": "execute_result"
    }
   ],
   "source": [
    "Service_List = [\"한식음식점\", \"중식음식점\", \"일식음식점\", \"양식음식점\", \"제과점\", \"패스트푸드점\", \"치킨전문점\", \"분식전문점\", \"호프-간이주점\", \"커피-음료\"]\n",
    "Service_List"
   ]
  },
  {
   "cell_type": "code",
   "execution_count": 8,
   "id": "37c021c1-af84-4831-ab4a-48e53ace24e2",
   "metadata": {},
   "outputs": [
    {
     "name": "stdin",
     "output_type": "stream",
     "text": [
      "업종을 선택하세요 : 치킨전문점\n"
     ]
    }
   ],
   "source": [
    "UserInput = input(\"업종을 선택하세요 :\")"
   ]
  },
  {
   "cell_type": "markdown",
   "id": "92f2579d-3645-48dd-b3a7-3daec5d6b9d5",
   "metadata": {},
   "source": [
    "#### <br>해당 업종에서 추정매출 상위 1% 혹은 상위 10개 지역에 해당하는 상권 출력"
   ]
  },
  {
   "cell_type": "code",
   "execution_count": null,
   "id": "dff4bfc2-0663-4180-ba40-5c69be97406e",
   "metadata": {},
   "outputs": [],
   "source": []
  },
  {
   "cell_type": "markdown",
   "id": "0e456b52-650c-4fe1-a37f-34ace5ce2cf4",
   "metadata": {},
   "source": [
    "#### <br>틈새시장(선택한 서비스업종이 없는 지역) 중 추정매출, 유동인구 상위 1% 혹은 상위 10개 지역 출력"
   ]
  },
  {
   "cell_type": "code",
   "execution_count": null,
   "id": "ee919edf-63dd-44cb-97c6-50537a000e79",
   "metadata": {},
   "outputs": [],
   "source": []
  },
  {
   "cell_type": "markdown",
   "id": "0a57067a-3c0c-4a4c-b832-6789c9a2fc84",
   "metadata": {},
   "source": [
    "## <br>상권 입력 (임시, 나중에 지도 클릭하는 형태로 변경)"
   ]
  },
  {
   "cell_type": "code",
   "execution_count": 12,
   "id": "b6aee9da-6cc4-45c0-93dc-53f4b0eb394b",
   "metadata": {},
   "outputs": [
    {
     "name": "stdout",
     "output_type": "stream",
     "text": [
      "1이상 1496이하\n"
     ]
    },
    {
     "name": "stdin",
     "output_type": "stream",
     "text": [
      " 848\n"
     ]
    }
   ],
   "source": [
    "print('1이상 1496이하')\n",
    "locate = input()"
   ]
  },
  {
   "cell_type": "markdown",
   "id": "d01cb96c-c297-4405-bf55-3dfe18bc54ce",
   "metadata": {},
   "source": [
    "#### <br>성별 매출비율"
   ]
  },
  {
   "cell_type": "code",
   "execution_count": null,
   "id": "c322d610-d784-43e6-8296-86b389d9b71d",
   "metadata": {},
   "outputs": [],
   "source": []
  },
  {
   "cell_type": "markdown",
   "id": "b142478d-e999-427f-a49f-2a22688a4d2d",
   "metadata": {},
   "source": [
    "#### <br>연령별 매출비율"
   ]
  },
  {
   "cell_type": "code",
   "execution_count": null,
   "id": "cf82b73d-748f-4d3b-ac5e-024e2de172a3",
   "metadata": {},
   "outputs": [],
   "source": []
  },
  {
   "cell_type": "markdown",
   "id": "64ce25cf-5bd3-4c7d-869e-18e3274b79e3",
   "metadata": {},
   "source": [
    "#### <br>인구 데이터"
   ]
  },
  {
   "cell_type": "markdown",
   "id": "851960a4-3fc7-4c85-a4a2-3bc6811f9ec9",
   "metadata": {},
   "source": [
    "###### 유동인구(전체 데이터 중 상위 몇프로? 출력)"
   ]
  },
  {
   "cell_type": "code",
   "execution_count": null,
   "id": "0ba9a0f0-b462-4459-a81e-dd91d0bdad2d",
   "metadata": {},
   "outputs": [],
   "source": []
  },
  {
   "cell_type": "markdown",
   "id": "7dc0524e-5367-4427-b22c-7ce79b641436",
   "metadata": {},
   "source": [
    "###### <br>직장인구(전체 데이터 중 상위 몇프로? 출력)"
   ]
  },
  {
   "cell_type": "code",
   "execution_count": null,
   "id": "f026b039-e955-4eaf-8035-7c53634c947f",
   "metadata": {},
   "outputs": [],
   "source": []
  },
  {
   "cell_type": "markdown",
   "id": "86276a26-99e7-406c-a77b-4b29bea0e888",
   "metadata": {},
   "source": [
    "###### <br>상주인구(전체 데이터 중 상위 몇프로? 출력)"
   ]
  },
  {
   "cell_type": "code",
   "execution_count": null,
   "id": "ebebcb8e-73cf-44ab-bf44-3f172f66c5d2",
   "metadata": {},
   "outputs": [],
   "source": []
  },
  {
   "cell_type": "markdown",
   "id": "477a5385-9baf-4a2a-a44d-af919f800374",
   "metadata": {},
   "source": [
    "## <br>시간대별 매출"
   ]
  },
  {
   "cell_type": "code",
   "execution_count": null,
   "id": "51daeca8-f2cd-4da5-90f6-f1ba81cf09d7",
   "metadata": {},
   "outputs": [],
   "source": []
  },
  {
   "cell_type": "markdown",
   "id": "c98cb566-d4c6-4467-a16d-285fc8d5ec6e",
   "metadata": {},
   "source": [
    "## <br>요일별 매출"
   ]
  },
  {
   "cell_type": "code",
   "execution_count": null,
   "id": "9339e783-47b1-469c-acbb-3a417a09caaf",
   "metadata": {},
   "outputs": [],
   "source": []
  }
 ],
 "metadata": {
  "kernelspec": {
   "display_name": "Python 3",
   "language": "python",
   "name": "python3"
  },
  "language_info": {
   "codemirror_mode": {
    "name": "ipython",
    "version": 3
   },
   "file_extension": ".py",
   "mimetype": "text/x-python",
   "name": "python",
   "nbconvert_exporter": "python",
   "pygments_lexer": "ipython3",
   "version": "3.8.8"
  }
 },
 "nbformat": 4,
 "nbformat_minor": 5
}
