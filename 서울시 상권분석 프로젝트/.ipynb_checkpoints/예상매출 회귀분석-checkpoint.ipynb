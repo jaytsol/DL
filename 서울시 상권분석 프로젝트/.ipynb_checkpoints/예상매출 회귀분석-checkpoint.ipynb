{
 "cells": [
  {
   "cell_type": "markdown",
   "id": "fcc4fa21-8587-429b-a425-c62921394cb3",
   "metadata": {},
   "source": [
    "# 예상매출 회귀분석<br>"
   ]
  },
  {
   "cell_type": "markdown",
   "id": "261660f1-b427-4488-bb27-afc64797762f",
   "metadata": {},
   "source": [
    "### 라이브러리"
   ]
  },
  {
   "cell_type": "code",
   "execution_count": 20,
   "id": "8496fd7b-2def-419c-910d-09ec60a6933d",
   "metadata": {},
   "outputs": [],
   "source": [
    "import numpy as np\n",
    "import pandas as pd\n",
    "from matplotlib import pyplot as plt\n",
    "from tensorflow.keras.models import Sequential\n",
    "from tensorflow.keras.layers import Dense\n",
    "from tensorflow.keras import optimizers"
   ]
  },
  {
   "cell_type": "markdown",
   "id": "9f926e6d-7c9a-4ef8-b734-d16787335125",
   "metadata": {},
   "source": [
    "### <br>데이터 입력"
   ]
  },
  {
   "cell_type": "code",
   "execution_count": 21,
   "id": "e4384ee5-33a2-468a-a1b9-c81ec5ad4b54",
   "metadata": {},
   "outputs": [],
   "source": [
    "data_input = pd.read_csv(r'C:\\Users\\jayts\\OneDrive\\바탕 화면\\hustar\\프로젝트\\작업 엑셀_최종\\소득소비_유동인구_다중회귀\\통합 문서.csv')"
   ]
  },
  {
   "cell_type": "markdown",
   "id": "b9c372ea-db6d-4a07-ba6b-cc09fda2cadd",
   "metadata": {},
   "source": [
    "### <br>데이터 확인"
   ]
  },
  {
   "cell_type": "code",
   "execution_count": 22,
   "id": "94b5db8b-b4bb-4d03-9892-efd87f3d1ad3",
   "metadata": {},
   "outputs": [
    {
     "data": {
      "text/html": [
       "<div>\n",
       "<style scoped>\n",
       "    .dataframe tbody tr th:only-of-type {\n",
       "        vertical-align: middle;\n",
       "    }\n",
       "\n",
       "    .dataframe tbody tr th {\n",
       "        vertical-align: top;\n",
       "    }\n",
       "\n",
       "    .dataframe thead th {\n",
       "        text-align: right;\n",
       "    }\n",
       "</style>\n",
       "<table border=\"1\" class=\"dataframe\">\n",
       "  <thead>\n",
       "    <tr style=\"text-align: right;\">\n",
       "      <th></th>\n",
       "      <th>행 레이블</th>\n",
       "      <th>평균 : 당월_매출_금액</th>\n",
       "      <th>평균 : 총_유동인구_수</th>\n",
       "      <th>평균 : 월_평균_소득_금액</th>\n",
       "      <th>평균 : 지출_총금액</th>\n",
       "      <th>상권_변화_지표</th>\n",
       "    </tr>\n",
       "  </thead>\n",
       "  <tbody>\n",
       "    <tr>\n",
       "      <th>0</th>\n",
       "      <td>1000001</td>\n",
       "      <td>6.788332e+08</td>\n",
       "      <td>1.285792e+06</td>\n",
       "      <td>3783725</td>\n",
       "      <td>2927151544</td>\n",
       "      <td>LH</td>\n",
       "    </tr>\n",
       "    <tr>\n",
       "      <th>1</th>\n",
       "      <td>1000002</td>\n",
       "      <td>9.217054e+08</td>\n",
       "      <td>3.943541e+06</td>\n",
       "      <td>3665126</td>\n",
       "      <td>5403471264</td>\n",
       "      <td>HL</td>\n",
       "    </tr>\n",
       "    <tr>\n",
       "      <th>2</th>\n",
       "      <td>1000003</td>\n",
       "      <td>1.713149e+09</td>\n",
       "      <td>2.184229e+06</td>\n",
       "      <td>3192740</td>\n",
       "      <td>2753854220</td>\n",
       "      <td>HH</td>\n",
       "    </tr>\n",
       "    <tr>\n",
       "      <th>3</th>\n",
       "      <td>1000004</td>\n",
       "      <td>1.722263e+08</td>\n",
       "      <td>3.318473e+06</td>\n",
       "      <td>3282965</td>\n",
       "      <td>4251573887</td>\n",
       "      <td>LH</td>\n",
       "    </tr>\n",
       "    <tr>\n",
       "      <th>4</th>\n",
       "      <td>1000005</td>\n",
       "      <td>2.315643e+08</td>\n",
       "      <td>4.583172e+05</td>\n",
       "      <td>4545914</td>\n",
       "      <td>2961934404</td>\n",
       "      <td>LL</td>\n",
       "    </tr>\n",
       "    <tr>\n",
       "      <th>...</th>\n",
       "      <td>...</td>\n",
       "      <td>...</td>\n",
       "      <td>...</td>\n",
       "      <td>...</td>\n",
       "      <td>...</td>\n",
       "      <td>...</td>\n",
       "    </tr>\n",
       "    <tr>\n",
       "      <th>1005</th>\n",
       "      <td>1001006</td>\n",
       "      <td>4.422260e+08</td>\n",
       "      <td>5.845556e+06</td>\n",
       "      <td>3667573</td>\n",
       "      <td>9677203365</td>\n",
       "      <td>LH</td>\n",
       "    </tr>\n",
       "    <tr>\n",
       "      <th>1006</th>\n",
       "      <td>1001007</td>\n",
       "      <td>5.195057e+08</td>\n",
       "      <td>1.198691e+06</td>\n",
       "      <td>3054443</td>\n",
       "      <td>2119012147</td>\n",
       "      <td>LL</td>\n",
       "    </tr>\n",
       "    <tr>\n",
       "      <th>1007</th>\n",
       "      <td>1001008</td>\n",
       "      <td>1.925643e+09</td>\n",
       "      <td>7.631875e+06</td>\n",
       "      <td>3289770</td>\n",
       "      <td>6868562895</td>\n",
       "      <td>LL</td>\n",
       "    </tr>\n",
       "    <tr>\n",
       "      <th>1008</th>\n",
       "      <td>1001009</td>\n",
       "      <td>9.022777e+08</td>\n",
       "      <td>9.094054e+06</td>\n",
       "      <td>3469075</td>\n",
       "      <td>9663549099</td>\n",
       "      <td>HL</td>\n",
       "    </tr>\n",
       "    <tr>\n",
       "      <th>1009</th>\n",
       "      <td>1001010</td>\n",
       "      <td>6.144187e+08</td>\n",
       "      <td>1.003156e+07</td>\n",
       "      <td>3380864</td>\n",
       "      <td>12266211982</td>\n",
       "      <td>LL</td>\n",
       "    </tr>\n",
       "  </tbody>\n",
       "</table>\n",
       "<p>1010 rows × 6 columns</p>\n",
       "</div>"
      ],
      "text/plain": [
       "        행 레이블  평균 : 당월_매출_금액  평균 : 총_유동인구_수  평균 : 월_평균_소득_금액  평균 : 지출_총금액  \\\n",
       "0     1000001   6.788332e+08   1.285792e+06          3783725   2927151544   \n",
       "1     1000002   9.217054e+08   3.943541e+06          3665126   5403471264   \n",
       "2     1000003   1.713149e+09   2.184229e+06          3192740   2753854220   \n",
       "3     1000004   1.722263e+08   3.318473e+06          3282965   4251573887   \n",
       "4     1000005   2.315643e+08   4.583172e+05          4545914   2961934404   \n",
       "...       ...            ...            ...              ...          ...   \n",
       "1005  1001006   4.422260e+08   5.845556e+06          3667573   9677203365   \n",
       "1006  1001007   5.195057e+08   1.198691e+06          3054443   2119012147   \n",
       "1007  1001008   1.925643e+09   7.631875e+06          3289770   6868562895   \n",
       "1008  1001009   9.022777e+08   9.094054e+06          3469075   9663549099   \n",
       "1009  1001010   6.144187e+08   1.003156e+07          3380864  12266211982   \n",
       "\n",
       "     상권_변화_지표  \n",
       "0          LH  \n",
       "1          HL  \n",
       "2          HH  \n",
       "3          LH  \n",
       "4          LL  \n",
       "...       ...  \n",
       "1005       LH  \n",
       "1006       LL  \n",
       "1007       LL  \n",
       "1008       HL  \n",
       "1009       LL  \n",
       "\n",
       "[1010 rows x 6 columns]"
      ]
     },
     "execution_count": 22,
     "metadata": {},
     "output_type": "execute_result"
    }
   ],
   "source": [
    "data_input"
   ]
  },
  {
   "cell_type": "markdown",
   "id": "730ce26a-ae50-4a60-a967-efb6bbd6c60f",
   "metadata": {},
   "source": [
    "#### <br>pyplot을 위한 한글 폰트 설치"
   ]
  },
  {
   "cell_type": "code",
   "execution_count": null,
   "id": "f5c1b17e-f1e5-4232-a948-9cb9d78b8d02",
   "metadata": {},
   "outputs": [],
   "source": [
    "plt.rc('font', family='Malgun Gothic')"
   ]
  },
  {
   "cell_type": "markdown",
   "id": "8edea931-5b1d-4d92-a07d-8e64f2c9a9f8",
   "metadata": {},
   "source": [
    "### <br>이상치 확인"
   ]
  },
  {
   "cell_type": "code",
   "execution_count": 31,
   "id": "ada34a4a-f690-4b04-97cd-6ba338ab8db3",
   "metadata": {},
   "outputs": [
    {
     "name": "stdout",
     "output_type": "stream",
     "text": [
      "3397737895.25\n"
     ]
    },
    {
     "data": {
      "image/png": "[encoded data removed]",
      "text/plain": [
       "<Figure size 432x288 with 2 Axes>"
      ]
     },
     "metadata": {
      "needs_background": "light"
     },
     "output_type": "display_data"
    }
   ],
   "source": [
    "fig = plt.figure()\n",
    "fig_1 = fig.add_subplot(1, 2, 1)\n",
    "fig_2 = fig.add_subplot(1, 2, 2)\n",
    "\n",
    "fig_1.set_title('Original Data')\n",
    "fig_1.boxplot(data_input['평균 : 지출_총금액'])\n",
    "\n",
    "iqr_value = np.percentile(data_input['평균 : 지출_총금액'], 75) - np.percentile(data_input['평균 : 지출_총금액'], 25)\n",
    "print(iqr_value)\n",
    "\n",
    "upper_fence = np.percentile(data_input['평균 : 지출_총금액'], 75) + (iqr_value*1.5)\n",
    "lower_fence = np.percentile(data_input['평균 : 지출_총금액'], 25) - (iqr_value*1.5)\n",
    "\n",
    "result = data_input['평균 : 지출_총금액'][(data_input['평균 : 지출_총금액']<upper_fence) & (data_input['평균 : 지출_총금액']>lower_fence)]\n",
    "\n",
    "fig_2.set_title('Removed Outlier')\n",
    "fig_2.boxplot(result)\n",
    "\n",
    "fig.tight_layout()\n",
    "plt.show()"
   ]
  },
  {
   "cell_type": "markdown",
   "id": "3cdd3271-130c-4d94-b44f-f01460bc06a5",
   "metadata": {},
   "source": [
    "### <br>산점도 그려보기"
   ]
  },
  {
   "cell_type": "markdown",
   "id": "32ec0e0d-9455-4d4f-b38a-858ed4599084",
   "metadata": {},
   "source": [
    "#### 매출 - 유동인구"
   ]
  },
  {
   "cell_type": "code",
   "execution_count": 34,
   "id": "c80a2ec1-cf38-4277-ada3-c7fb56735cf8",
   "metadata": {},
   "outputs": [
    {
     "data": {
      "image/png": "[encoded data removed]",
      "text/plain": [
       "<Figure size 720x360 with 1 Axes>"
      ]
     },
     "metadata": {
      "needs_background": "light"
     },
     "output_type": "display_data"
    }
   ],
   "source": [
    "data_input.plot(kind='scatter', x='평균 : 당월_매출_금액', y='평균 : 총_유동인구_수', c='coral', s=10, figsize=(10, 5))\n",
    "plt.title('회귀분석')\n",
    "plt.show()\n",
    "plt.close()"
   ]
  },
  {
   "cell_type": "markdown",
   "id": "5f0702d7-f894-4797-8fdd-0ea9d50062d6",
   "metadata": {},
   "source": [
    "#### 매출 - 월 평균 소득"
   ]
  },
  {
   "cell_type": "code",
   "execution_count": 35,
   "id": "51238332-1d77-4b9d-a9bf-4443d501ace3",
   "metadata": {},
   "outputs": [
    {
     "data": {
      "image/png": "[encoded data removed]",
      "text/plain": [
       "<Figure size 720x360 with 1 Axes>"
      ]
     },
     "metadata": {
      "needs_background": "light"
     },
     "output_type": "display_data"
    }
   ],
   "source": [
    "data_input.plot(kind='scatter', x='평균 : 당월_매출_금액', y='평균 : 월_평균_소득_금액', c='coral', s=10, figsize=(10, 5))\n",
    "plt.title('회귀분석')\n",
    "plt.show()\n",
    "plt.close()"
   ]
  },
  {
   "cell_type": "markdown",
   "id": "ce74935c-c4a0-4496-95c4-2314950a7d9d",
   "metadata": {},
   "source": [
    "#### 매출 - 지출 총 금액"
   ]
  },
  {
   "cell_type": "code",
   "execution_count": 36,
   "id": "8237f302-d460-4a31-b741-73bc9bdf1dc7",
   "metadata": {},
   "outputs": [
    {
     "data": {
      "image/png": "[encoded data removed]",
      "text/plain": [
       "<Figure size 720x360 with 1 Axes>"
      ]
     },
     "metadata": {
      "needs_background": "light"
     },
     "output_type": "display_data"
    }
   ],
   "source": [
    "data_input.plot(kind='scatter', x='평균 : 당월_매출_금액', y='평균 : 지출_총금액', c='coral', s=10, figsize=(10, 5))\n",
    "plt.title('회귀분석')\n",
    "plt.show()\n",
    "plt.close()"
   ]
  },
  {
   "cell_type": "markdown",
   "id": "d56c3012-2200-46c0-8ca8-5083ab7e08ac",
   "metadata": {},
   "source": [
    "## <br>데이터 전처리"
   ]
  },
  {
   "cell_type": "markdown",
   "id": "9852ff9c-135f-4dd4-b3b3-9b95c750ba7e",
   "metadata": {},
   "source": [
    "###### Train & Test Data"
   ]
  },
  {
   "cell_type": "code",
   "execution_count": 39,
   "id": "01012807-ed2a-47b1-ae2b-8942edd77f3a",
   "metadata": {},
   "outputs": [],
   "source": [
    "data_input_train_full = data_input[:800]\n",
    "data_input_test = data_input[800:]"
   ]
  },
  {
   "cell_type": "markdown",
   "id": "2dcbd7f7-9685-4641-a24f-c798c4e0c1a1",
   "metadata": {},
   "source": [
    "###### Generate validation Data"
   ]
  },
  {
   "cell_type": "code",
   "execution_count": null,
   "id": "e262eef2-6cd1-4e3b-be9f-57f55284dddc",
   "metadata": {},
   "outputs": [],
   "source": [
    "data_input_valid = data_input_train_full[:80]\n",
    "data_input_train = data_input_train_full[80:]"
   ]
  },
  {
   "cell_type": "markdown",
   "id": "9dc6bbce-2ee4-4bfd-aa31-ba7a3cc700b4",
   "metadata": {},
   "source": [
    "## <br>모델 생성"
   ]
  },
  {
   "cell_type": "code",
   "execution_count": 38,
   "id": "6cc3c617-5eba-4cf8-87e5-4f2602a3a615",
   "metadata": {},
   "outputs": [],
   "source": [
    "model = Sequential()\n",
    "model.add(Dense(1, input dim=3, activation=linear))\n",
    "\n",
    "sgd=optimizers.SGD(lr=0.00001)\n",
    "\n",
    "model.comple(optimizer=sgd, loss='mse', metrics=['mse'])\n",
    "\n",
    "model.fit(X, y, batch_size=1, epochs=500, shuffle=False)"
   ]
  },
  {
   "cell_type": "code",
   "execution_count": null,
   "id": "c80dffd0-26b8-4523-9150-5962661428b2",
   "metadata": {},
   "outputs": [],
   "source": []
  }
 ],
 "metadata": {
  "kernelspec": {
   "display_name": "Python 3",
   "language": "python",
   "name": "python3"
  },
  "language_info": {
   "codemirror_mode": {
    "name": "ipython",
    "version": 3
   },
   "file_extension": ".py",
   "mimetype": "text/x-python",
   "name": "python",
   "nbconvert_exporter": "python",
   "pygments_lexer": "ipython3",
   "version": "3.8.8"
  }
 },
 "nbformat": 4,
 "nbformat_minor": 5
}
