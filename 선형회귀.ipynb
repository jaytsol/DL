{
 "cells": [
  {
   "cell_type": "code",
   "execution_count": 1,
   "id": "ffbd2a6a-95ee-45d2-99bb-0d8f861cbf8a",
   "metadata": {},
   "outputs": [],
   "source": [
    "import numpy as np\n",
    "from tensorflow.keras.models import Sequential    # 모델 만듬\n",
    "from tensorflow.keras.layers import Dense         # 적층\n",
    "from tensorflow.keras import optimizers           # 옵티마이저(ex. SGD)"
   ]
  },
  {
   "cell_type": "code",
   "execution_count": 2,
   "id": "b8da402e-0903-498e-9847-ef573f459f39",
   "metadata": {},
   "outputs": [
    {
     "data": {
      "text/plain": [
       "<tensorflow.python.keras.callbacks.History at 0x20c08a62520>"
      ]
     },
     "execution_count": 2,
     "metadata": {},
     "output_type": "execute_result"
    }
   ],
   "source": [
    "X = [1, 2, 3, 4, 5, 6, 7, 8, 9]            # 공부시간\n",
    "y = [11, 22, 33, 44, 53, 66, 77, 87, 95]   # 성적\n",
    "\n",
    "model = Sequential()\n",
    "\n",
    "# 입출력 차원 1. 선형회귀이기에 활성화함수는 'linear'.\n",
    "model.add(Dense(1, input_dim = 1, activation = 'linear'))\n",
    "\n",
    "# 경사 하강법. 학습률 0.01\n",
    "sgd = optimizers.SGD(lr = 0.01)\n",
    "\n",
    "# 손실 함수(Loss function)은 평균제곱오차 mse를 사용합니다.\n",
    "model.compile(optimizer = sgd, loss = 'mse', metrics = ['mse'])\n",
    "\n",
    "# 주어진 X와 y데이터에 대해서 오차를 최소화하는 작업을 300번 시도합니다.\n",
    "model.fit(X, y, batch_size = 1, epochs = 300, shuffle = False, verbose = 0)"
   ]
  },
  {
   "cell_type": "code",
   "execution_count": 3,
   "id": "0eb36e59-3033-442b-b628-c132976922e3",
   "metadata": {},
   "outputs": [
    {
     "data": {
      "text/plain": [
       "[<matplotlib.lines.Line2D at 0x20c0972e7f0>,\n",
       " <matplotlib.lines.Line2D at 0x20c0972e6d0>]"
      ]
     },
     "execution_count": 3,
     "metadata": {},
     "output_type": "execute_result"
    },
    {
     "data": {
      "image/png": "[encoded data removed]",
      "text/plain": [
       "<Figure size 432x288 with 1 Axes>"
      ]
     },
     "metadata": {
      "needs_background": "light"
     },
     "output_type": "display_data"
    }
   ],
   "source": [
    "%matplotlib inline\n",
    "import matplotlib.pyplot as plt\n",
    "plt.plot(X, model.predict(X), 'b', X, y, 'k.')"
   ]
  },
  {
   "cell_type": "code",
   "execution_count": 4,
   "id": "445aa961-08b4-4e0d-9545-6f6e913a8c9d",
   "metadata": {},
   "outputs": [
    {
     "name": "stdout",
     "output_type": "stream",
     "text": [
      "[[98.556465]]\n"
     ]
    }
   ],
   "source": [
    "print(model.predict([9.5]))          # 독립변수 9.5일 때 예측값은 ?"
   ]
  },
  {
   "cell_type": "code",
   "execution_count": null,
   "id": "13575d2f-9e71-40f3-9217-9698a719bcfd",
   "metadata": {},
   "outputs": [],
   "source": []
  }
 ],
 "metadata": {
  "kernelspec": {
   "display_name": "Python 3",
   "language": "python",
   "name": "python3"
  },
  "language_info": {
   "codemirror_mode": {
    "name": "ipython",
    "version": 3
   },
   "file_extension": ".py",
   "mimetype": "text/x-python",
   "name": "python",
   "nbconvert_exporter": "python",
   "pygments_lexer": "ipython3",
   "version": "3.8.8"
  }
 },
 "nbformat": 4,
 "nbformat_minor": 5
}
